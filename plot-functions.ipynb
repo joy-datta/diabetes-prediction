{
 "cells": [
  {
   "cell_type": "markdown",
   "metadata": {},
   "source": [
    "# Plot functions for Exploratory Data Analysis (EDA)"
   ]
  },
  {
   "cell_type": "code",
   "execution_count": 1,
   "metadata": {},
   "outputs": [],
   "source": [
    "#plot function for data distribution of each attribute and the target\n",
    "def histplot(rows, columns, data, grid = \"darkgrid\", hspace = 0.5):\n",
    "    \"\"\"\n",
    "    Creates data distribution subplot of each given variable.\n",
    "    Input: rows (number of rows), columns (number of columns in the plot), data, grid and hspace.\n",
    "    Output: subplots of data distribution or histplot of the given variables.\n",
    "    \"\"\"\n",
    "    sns.set(rc = {\"figure.figsize\": (15, 12)})\n",
    "    sns.set_theme(style = grid)\n",
    "    fig, axes = plt.subplots(rows, columns)\n",
    "    plt.subplots_adjust(hspace = hspace)\n",
    "    count = 0\n",
    "    if len(data.keys()) % 2 != 0:\n",
    "        for row in range(rows):\n",
    "            for column in range(columns):\n",
    "                if (row == rows - 1 and column == columns - 1):\n",
    "                    fig.delaxes(axes[row, column])\n",
    "                else:\n",
    "                    sns.histplot(data[data.keys()[count]], ax = axes[row, column], kde = True)\n",
    "                    #kde is kernel density estimation that estimates the pdf of a continuous random variable\n",
    "                count += 1\n",
    "    else:\n",
    "        for row in range(rows):\n",
    "            for column in range(columns):\n",
    "                sns.histplot(data[data.keys()[count]], ax = axes[row, column], kde = True)\n",
    "                count += 1\n",
    "    plt.suptitle(\"Data distributions of the variables and the target\")\n",
    "    plt.show()"
   ]
  },
  {
   "cell_type": "code",
   "execution_count": 2,
   "metadata": {},
   "outputs": [],
   "source": [
    "#plot function for boxplot of each attribute and the target\n",
    "def boxplot(rows, columns, data, grid = \"darkgrid\", hspace = 0.5):\n",
    "    \"\"\"\n",
    "    Creates boxplot subplot of each given variable.\n",
    "    Input: rows (number of rows), columns (number of columns in the plot), data, grid and hspace.\n",
    "    Output: boxplots of the given variables.\n",
    "    \"\"\"\n",
    "    sns.set(rc = {\"figure.figsize\": (15, 12)})\n",
    "    sns.set_theme(style = grid)\n",
    "    fig, axes = plt.subplots(rows, columns)\n",
    "    plt.subplots_adjust(hspace = hspace)\n",
    "    count = 0\n",
    "    if len(data.keys()) % 2 != 0:\n",
    "        for row in range(rows):\n",
    "            for column in range(columns):\n",
    "                if (row == rows - 1 and column == columns - 1):\n",
    "                    fig.delaxes(axes[row, column])\n",
    "                else:\n",
    "                    sns.boxplot(x = data[data.keys()[count]], ax = axes[row, column])\n",
    "                count += 1\n",
    "    else:\n",
    "        for row in range(rows):\n",
    "            for column in range(columns):\n",
    "                sns.boxplot(x = data[data.keys()[count]], ax = axes[row, column])\n",
    "                count += 1\n",
    "    plt.suptitle(\"Boxplots of the variables and the target\")\n",
    "    plt.show()"
   ]
  },
  {
   "cell_type": "code",
   "execution_count": 3,
   "metadata": {},
   "outputs": [],
   "source": [
    "#plot function for violinplot of each attribute and the target\n",
    "def violinplot(rows, columns, data, grid = \"darkgrid\", hspace = 0.5):\n",
    "    \"\"\"\n",
    "    Creates subplots of violinplots that is a combination of boxplot and kde.\n",
    "    Input: rows (number of rows), columns (number of columns in the plot), data, grid and hspace.\n",
    "    Output: violinplots of the given variables.\n",
    "    \"\"\"\n",
    "    sns.set(rc = {\"figure.figsize\": (15, 12)})\n",
    "    sns.set_theme(style = grid)\n",
    "    fig, axes = plt.subplots(rows, columns)\n",
    "    plt.subplots_adjust(hspace = hspace)\n",
    "    count = 0\n",
    "    if len(data.keys()) % 2 != 0:\n",
    "        for row in range(rows):\n",
    "            for column in range(columns):\n",
    "                if (row == rows - 1 and column == columns - 1):\n",
    "                    fig.delaxes(axes[row, column])\n",
    "                else:\n",
    "                    sns.violinplot(x = data[data.keys()[count]], ax = axes[row, column])\n",
    "                count += 1\n",
    "    else:\n",
    "        for row in range(rows):\n",
    "            for column in range(columns):\n",
    "                sns.violinplot(x = data[data.keys()[count]], ax = axes[row, column])\n",
    "                count += 1\n",
    "    plt.suptitle(\"Violinplots of the variables and the target\")\n",
    "    plt.show()"
   ]
  }
 ],
 "metadata": {
  "kernelspec": {
   "display_name": "Python 3",
   "language": "python",
   "name": "python3"
  },
  "language_info": {
   "codemirror_mode": {
    "name": "ipython",
    "version": 3
   },
   "file_extension": ".py",
   "mimetype": "text/x-python",
   "name": "python",
   "nbconvert_exporter": "python",
   "pygments_lexer": "ipython3",
   "version": "3.8.5"
  }
 },
 "nbformat": 4,
 "nbformat_minor": 4
}
